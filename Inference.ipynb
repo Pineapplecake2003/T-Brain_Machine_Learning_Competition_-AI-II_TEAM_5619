{
 "cells": [
  {
   "cell_type": "markdown",
   "metadata": {},
   "source": [
    "# Create Folders"
   ]
  },
  {
   "cell_type": "code",
   "execution_count": null,
   "metadata": {},
   "outputs": [],
   "source": [
    "!mkdir log\n",
    "!mkdir model\n",
    "!mkdir result"
   ]
  },
  {
   "cell_type": "markdown",
   "metadata": {},
   "source": [
    "# Import"
   ]
  },
  {
   "cell_type": "code",
   "execution_count": null,
   "metadata": {},
   "outputs": [],
   "source": [
    "import gc\n",
    "import os\n",
    "import time\n",
    "import torch\n",
    "import datetime\n",
    "from utils import *\n",
    "import torch.nn as nn\n",
    "from Model import Unet\n",
    "from Dataset import NavigationDataset\n",
    "from torch.utils.data import DataLoader\n",
    "import torchvision.transforms as transforms\n",
    "from Loss import TverskyLoss, WeightedCrossEntropyLoss"
   ]
  },
  {
   "cell_type": "markdown",
   "metadata": {},
   "source": [
    "# Global variable"
   ]
  },
  {
   "cell_type": "code",
   "execution_count": null,
   "metadata": {},
   "outputs": [],
   "source": [
    "IMG_WIDTH = 428\n",
    "IMG_HIGHT = 240"
   ]
  },
  {
   "cell_type": "markdown",
   "metadata": {},
   "source": [
    "# Inference"
   ]
  },
  {
   "cell_type": "code",
   "execution_count": null,
   "metadata": {},
   "outputs": [],
   "source": [
    "def inference(model,public_dataloader,  private_dataloader):\n",
    "    if not os.path.isdir(\"./result\"):\n",
    "        os.mkdir(\"result\")\n",
    "    floder_path = \"./result/\"\n",
    "    threshold = 176\n",
    "    toimg = transforms.ToPILImage()\n",
    "    resize = transforms.Resize((IMG_HIGHT, IMG_WIDTH), antialias=True)\n",
    "\n",
    "    model.eval()\n",
    "    with torch.no_grad():\n",
    "        # public\n",
    "        for i, data in enumerate(public_dataloader):\n",
    "            images = data[0]\n",
    "            images = images.to(get_device())\n",
    "\n",
    "            outputs = model(images)[0][0]\n",
    "            cv2_img = convert_from_image_to_cv2(toimg(resize(outputs)))\n",
    "\n",
    "            _, cv2_img = cv2.threshold(cv2_img, threshold, 255, cv2.THRESH_BINARY)\n",
    "            if i <360:\n",
    "                cv2.imwrite(floder_path + f\"PUB_RI_{2000000 + i}.png\", cv2_img)\n",
    "            else:\n",
    "                cv2.imwrite(floder_path + f\"PUB_RO_{2000000 + i}.png\", cv2_img)\n",
    "            processbar(i+1, 720, 30, f\"{i+1:4d}/{720:4d} predicted.\")\n",
    "\n",
    "        # private\n",
    "        for i, data in enumerate(private_dataloader):\n",
    "            images = data[0]\n",
    "            images = images.to(get_device())\n",
    "\n",
    "            outputs = model(images)[0][0]\n",
    "            cv2_img = convert_from_image_to_cv2(toimg(resize(outputs)))\n",
    "\n",
    "            _, cv2_img = cv2.threshold(cv2_img, threshold, 255, cv2.THRESH_BINARY)\n",
    "            if i <360:\n",
    "                cv2.imwrite(floder_path + f\"PRI_RI_{2000000 + i}.png\", cv2_img)\n",
    "            else:\n",
    "                cv2.imwrite(floder_path + f\"PRI_RO_{2000000 + i}.png\", cv2_img)\n",
    "            \n",
    "            processbar(i+1, 720, 30, f\"{i+1:4d}/{720:4d} predicted.\")"
   ]
  },
  {
   "cell_type": "markdown",
   "metadata": {},
   "source": [
    "# Main"
   ]
  },
  {
   "cell_type": "code",
   "execution_count": null,
   "metadata": {},
   "outputs": [],
   "source": [
    "def main():\n",
    "    # hyper parameter\n",
    "    batch_size = 1\n",
    "\n",
    "    # dataset\n",
    "    print(\"Loading training dataset...\")\n",
    "    pub_test_set = NavigationDataset(mode=\"TEST\", dataset_path=\"./Dataset/\",test_mode=\"PUB\")\n",
    "    pri_test_set = NavigationDataset(mode=\"TEST\", dataset_path=\"./PrivateDataset/\",test_mode=\"PRI\")\n",
    "    \n",
    "    pub_test_dataloader = DataLoader(pub_test_set, batch_size= batch_size, shuffle= False)\n",
    "    pri_test_dataloader = DataLoader(pri_test_set, batch_size= batch_size, shuffle= False)\n",
    "    print(\"Loading complete.\")\n",
    "\n",
    "    # model\n",
    "    model = Unet(3, 1)\n",
    "    model.load_state_dict({k.replace('module.',''):v for k,v in torch.load(\"./model/best_model.pth\").items()})\n",
    "    model.to(get_device())\n",
    "    model = nn.DataParallel(model, device_ids=[i for i in range(torch.cuda.device_count())])\n",
    "\n",
    "    # inference\n",
    "    print(\"Start inferencing...\")\n",
    "    start_time = datetime.datetime.now()\n",
    "    inference(model, public_dataloader=pub_test_dataloader, private_dataloader=pri_test_dataloader)\n",
    "    end_time = datetime.datetime.now()\n",
    "    print(f\"Inferencing complete.\\nCost {str(end_time - start_time)} .\")\n",
    "\n",
    "if __name__ == \"__main__\":\n",
    "    main()"
   ]
  },
  {
   "cell_type": "markdown",
   "metadata": {},
   "source": [
    "# Package result"
   ]
  },
  {
   "cell_type": "code",
   "execution_count": null,
   "metadata": {},
   "outputs": [],
   "source": [
    "!zip -r result.zip result"
   ]
  }
 ],
 "metadata": {
  "kernelspec": {
   "display_name": "Python 3",
   "language": "python",
   "name": "python3"
  },
  "language_info": {
   "codemirror_mode": {
    "name": "ipython",
    "version": 3
   },
   "file_extension": ".py",
   "mimetype": "text/x-python",
   "name": "python",
   "nbconvert_exporter": "python",
   "pygments_lexer": "ipython3",
   "version": "3.10.6"
  }
 },
 "nbformat": 4,
 "nbformat_minor": 2
}
