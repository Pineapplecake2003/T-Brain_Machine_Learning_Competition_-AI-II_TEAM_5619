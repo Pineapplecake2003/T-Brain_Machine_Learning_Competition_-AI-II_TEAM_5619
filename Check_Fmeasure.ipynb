{
 "cells": [
  {
   "cell_type": "markdown",
   "metadata": {},
   "source": [
    "# Create Folders"
   ]
  },
  {
   "cell_type": "code",
   "execution_count": null,
   "metadata": {},
   "outputs": [],
   "source": [
    "!mkdir temp"
   ]
  },
  {
   "cell_type": "markdown",
   "metadata": {},
   "source": [
    "# Import"
   ]
  },
  {
   "cell_type": "code",
   "execution_count": null,
   "metadata": {},
   "outputs": [],
   "source": [
    "import os\n",
    "import torch\n",
    "import datetime\n",
    "from utils import *\n",
    "import py_sod_metrics\n",
    "import torch.nn as nn\n",
    "from Model import Unet\n",
    "from Dataset import ValidationDataset\n",
    "from torch.utils.data import DataLoader\n",
    "import torchvision.transforms as transforms"
   ]
  },
  {
   "cell_type": "markdown",
   "metadata": {},
   "source": [
    "# Global variable"
   ]
  },
  {
   "cell_type": "code",
   "execution_count": null,
   "metadata": {},
   "outputs": [],
   "source": [
    "IMG_WIDTH = 428\n",
    "IMG_HIGHT = 240\n",
    "GT_FOLDER = \"./temp/\""
   ]
  },
  {
   "cell_type": "markdown",
   "metadata": {},
   "source": [
    "# Test"
   ]
  },
  {
   "cell_type": "code",
   "execution_count": null,
   "metadata": {},
   "outputs": [],
   "source": [
    "def inference(model,public_dataloader):\n",
    "    floder_path = GT_FOLDER\n",
    "    threshold = 174\n",
    "    toimg = transforms.ToPILImage()\n",
    "    resize = transforms.Resize((IMG_HIGHT, IMG_WIDTH), antialias=True)\n",
    "\n",
    "    model.eval()\n",
    "    with torch.no_grad():\n",
    "        # public\n",
    "        i = 0\n",
    "        for data in public_dataloader:\n",
    "            images = data[0]\n",
    "            images = images.to(get_device())\n",
    "            outputs = model(images)[0]\n",
    "\n",
    "            for out in outputs:\n",
    "                cv2_img = convert_from_image_to_cv2(toimg(resize(out)))\n",
    "                _, cv2_img = cv2.threshold(cv2_img, threshold, 255, cv2.THRESH_BINARY)\n",
    "\n",
    "                if i <2160:\n",
    "                    cv2.imwrite(floder_path + f\"TRA_RI_{2000000 + i}.png\", cv2_img)\n",
    "                else:\n",
    "                    cv2.imwrite(floder_path + f\"TRA_RO_{2000000 + i}.png\", cv2_img)\n",
    "                processbar(i+1, 4320, 30, f\"{i+1}/{4320} predicted.\")\n",
    "                i += 1\n"
   ]
  },
  {
   "cell_type": "code",
   "execution_count": null,
   "metadata": {},
   "outputs": [],
   "source": [
    "def main():\n",
    "    # hyper parameter\n",
    "    batch_size = 70\n",
    "\n",
    "    # dataset\n",
    "    print(\"Loading training dataset...\")\n",
    "    pub_test_set = ValidationDataset(dataset_path=\"./Dataset/\")\n",
    "    \n",
    "    pub_test_dataloader = DataLoader(pub_test_set, batch_size= batch_size, shuffle= False)\n",
    "    print(\"Loading complete.\")\n",
    "\n",
    "    # model\n",
    "    model = Unet(3, 1)\n",
    "    model.load_state_dict({k.replace('module.',''):v for k,v in torch.load(\"./model/best_model.pth\").items()})\n",
    "    model.to(get_device())\n",
    "    model = nn.DataParallel(model, device_ids=[i for i in range(torch.cuda.device_count())])\n",
    "    model.eval()\n",
    "    \n",
    "    # inference\n",
    "    print(\"Start inferencing...\")\n",
    "    start_time = datetime.datetime.now()\n",
    "    inference(model, public_dataloader=pub_test_dataloader)\n",
    "    end_time = datetime.datetime.now()\n",
    "    print(f\"Inferencing complete.\\nCost {str(end_time - start_time)}.\")\n",
    "\n",
    "    \n",
    "if __name__ == \"__main__\":\n",
    "    main()"
   ]
  },
  {
   "cell_type": "markdown",
   "metadata": {},
   "source": [
    "# Check Fmeasure"
   ]
  },
  {
   "cell_type": "code",
   "execution_count": null,
   "metadata": {},
   "outputs": [],
   "source": [
    "mask_root = \"./Dataset/Training_dataset/label_img/\"\n",
    "pred_root = GT_FOLDER\n",
    "\n",
    "mask_name_list = sorted(os.listdir(mask_root))\n",
    "FMv2 = py_sod_metrics.FmeasureV2(\n",
    "    metric_handlers={\n",
    "        \"fm\": py_sod_metrics.FmeasureHandler(with_dynamic=True, with_adaptive=False, beta=0.3)\n",
    "    }\n",
    ")\n",
    "\n",
    "for i, mask_name in enumerate(mask_name_list):\n",
    "    mask_path = os.path.join(mask_root, mask_name)\n",
    "    pred_path = os.path.join(pred_root, mask_name)\n",
    "    mask = cv2.imread(mask_path, cv2.IMREAD_GRAYSCALE)\n",
    "    pred = cv2.imread(pred_path, cv2.IMREAD_GRAYSCALE)\n",
    "    FMv2.step(pred=pred, gt=mask)\n",
    "    processbar(i+1, 4320, 30, f\"{i+1:4d}/{4320} img measured.\")\n",
    "\n",
    "fmv2= FMv2.get_results()\n",
    "\n",
    "results = {\n",
    "    \"meanfm\":fmv2[\"fm\"][\"dynamic\"].mean()\n",
    "}\n",
    "\n",
    "print(results)"
   ]
  }
 ],
 "metadata": {
  "kernelspec": {
   "display_name": "Python 3",
   "language": "python",
   "name": "python3"
  },
  "language_info": {
   "codemirror_mode": {
    "name": "ipython",
    "version": 3
   },
   "file_extension": ".py",
   "mimetype": "text/x-python",
   "name": "python",
   "nbconvert_exporter": "python",
   "pygments_lexer": "ipython3",
   "version": "3.9.18"
  }
 },
 "nbformat": 4,
 "nbformat_minor": 2
}
